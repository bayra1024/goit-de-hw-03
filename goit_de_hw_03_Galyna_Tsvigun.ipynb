{
 "cells": [
  {
   "cell_type": "code",
   "execution_count": 8,
   "metadata": {
    "colab": {
     "base_uri": "https://localhost:8080/"
    },
    "id": "m2S1OnQw3E7y",
    "outputId": "274fe918-ad42-47bc-a144-dae338d5a47a"
   },
   "outputs": [
    {
     "name": "stdout",
     "output_type": "stream",
     "text": [
      "+-----------+------------+\n",
      "|   category|total_amount|\n",
      "+-----------+------------+\n",
      "|       Home|      1523.5|\n",
      "|     Sports|      1802.5|\n",
      "|Electronics|      1174.8|\n",
      "|   Clothing|       790.3|\n",
      "|     Beauty|       459.9|\n",
      "+-----------+------------+\n",
      "\n",
      "+-----------+------------------+\n",
      "|   category|total_amount_18_25|\n",
      "+-----------+------------------+\n",
      "|       Home|             361.1|\n",
      "|     Sports|             310.5|\n",
      "|Electronics|             249.6|\n",
      "|   Clothing|             245.0|\n",
      "|     Beauty|              41.4|\n",
      "+-----------+------------------+\n",
      "\n"
     ]
    }
   ],
   "source": [
    "from pyspark.sql import SparkSession\n",
    "from pyspark.sql.functions import sum as spark_sum, col, round\n",
    "from pyspark.sql.types import IntegerType\n",
    "\n",
    "spark = SparkSession.builder.appName(\"Data Processing\").getOrCreate()\n",
    "\n",
    "purchases_df = spark.read.csv('purchases.csv', header=True, inferSchema=True)\n",
    "users_df = spark.read.csv('users.csv', header=True, inferSchema=True)\n",
    "products_df = spark.read.csv('products.csv', header=True, inferSchema=True)\n",
    "\n",
    "purchases_df = purchases_df.dropna()\n",
    "users_df = users_df.dropna()\n",
    "products_df = products_df.dropna()\n",
    "\n",
    "merged_df = purchases_df.join(products_df, 'product_id')\n",
    "merged_df = merged_df.withColumn('amount', round(col('quantity') * col('price'), 2))\n",
    "total_purchase_per_category = merged_df.groupBy('category').agg(round(spark_sum('amount'), 2).alias('total_amount'))\n",
    "\n",
    "filtered_users_df = users_df.filter((col('age') >= 18) & (col('age') <= 25))\n",
    "merged_age_df = purchases_df.join(filtered_users_df, 'user_id').join(products_df, 'product_id')\n",
    "merged_age_df = merged_age_df.withColumn('amount', round(col('quantity') * col('price'), 2))\n",
    "total_purchase_18_25 = merged_age_df.groupBy('category').agg(round(spark_sum('amount'), 2).alias('total_amount_18_25'))\n",
    "\n",
    "from pyspark.sql.window import Window\n",
    "windowSpec = Window.partitionBy()\n",
    "percentage_share = total_purchase_18_25.withColumn(\n",
    "    'percentage', round((col('total_amount_18_25') / spark_sum('total_amount_18_25').over(windowSpec)) * 100, 2)\n",
    ")\n",
    "\n",
    "top_3_categories = percentage_share.orderBy(col('percentage').desc()).limit(3)\n",
    "total_purchase_per_category.show()\n",
    "total_purchase_18_25.show()"
   ]
  },
  {
   "cell_type": "code",
   "execution_count": 9,
   "metadata": {},
   "outputs": [
    {
     "name": "stdout",
     "output_type": "stream",
     "text": [
      "+-----------+------------------+----------+\n",
      "|   category|total_amount_18_25|percentage|\n",
      "+-----------+------------------+----------+\n",
      "|       Home|             361.1|      29.9|\n",
      "|     Sports|             310.5|     25.71|\n",
      "|Electronics|             249.6|     20.67|\n",
      "|   Clothing|             245.0|     20.29|\n",
      "|     Beauty|              41.4|      3.43|\n",
      "+-----------+------------------+----------+\n",
      "\n",
      "+-----------+------------------+----------+\n",
      "|   category|total_amount_18_25|percentage|\n",
      "+-----------+------------------+----------+\n",
      "|       Home|             361.1|      29.9|\n",
      "|     Sports|             310.5|     25.71|\n",
      "|Electronics|             249.6|     20.67|\n",
      "+-----------+------------------+----------+\n",
      "\n"
     ]
    }
   ],
   "source": [
    "percentage_share.show()\n",
    "top_3_categories.show()\n",
    "\n",
    "spark.stop()"
   ]
  }
 ],
 "metadata": {
  "colab": {
   "provenance": []
  },
  "kernelspec": {
   "display_name": "Python 3",
   "name": "python3"
  },
  "language_info": {
   "codemirror_mode": {
    "name": "ipython",
    "version": 3
   },
   "file_extension": ".py",
   "mimetype": "text/x-python",
   "name": "python",
   "nbconvert_exporter": "python",
   "pygments_lexer": "ipython3",
   "version": "3.12.7"
  }
 },
 "nbformat": 4,
 "nbformat_minor": 0
}
